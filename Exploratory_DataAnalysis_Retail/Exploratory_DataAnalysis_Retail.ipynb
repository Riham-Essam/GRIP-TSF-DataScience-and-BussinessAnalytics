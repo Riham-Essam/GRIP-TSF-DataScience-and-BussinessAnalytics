{
 "cells": [
  {
   "cell_type": "markdown",
   "id": "be8f334e",
   "metadata": {},
   "source": [
    "# Name: Riham Essam\n",
    "# Track: Data Science and Bussiness Analytics\n",
    "# Task 3: Exploratory Data Analysis - Retail"
   ]
  },
  {
   "cell_type": "code",
   "execution_count": null,
   "id": "08459077",
   "metadata": {},
   "outputs": [],
   "source": [
    "#Importating libraries\n",
    "import pandas as pd\n",
    "import numpy as np\n",
    "import matplotlib.pyplot as plt\n",
    "import sklearn\n",
    "import warnings\n",
    "from plotnine import *\n",
    "import seaborn as sns\n",
    "from sklearn.preprocessing import LabelEncoder\n",
    "from sklearn.neighbors import NearestNeighbors\n",
    "\n",
    "warnings.filterwarnings('ignore')"
   ]
  },
  {
   "cell_type": "code",
   "execution_count": null,
   "id": "5546d4ab",
   "metadata": {},
   "outputs": [],
   "source": [
    "#Read data\n",
    "store = pd.read_csv('SampleSuperstore.csv')\n",
    "store.head()"
   ]
  },
  {
   "cell_type": "code",
   "execution_count": null,
   "id": "1c2e0254",
   "metadata": {},
   "outputs": [],
   "source": [
    "store.shape"
   ]
  },
  {
   "cell_type": "code",
   "execution_count": null,
   "id": "1ad4bb2c",
   "metadata": {},
   "outputs": [],
   "source": [
    "store.describe()"
   ]
  },
  {
   "cell_type": "code",
   "execution_count": null,
   "id": "a2b5f751",
   "metadata": {},
   "outputs": [],
   "source": [
    "store.dtypes"
   ]
  },
  {
   "cell_type": "code",
   "execution_count": null,
   "id": "c41eb55d",
   "metadata": {},
   "outputs": [],
   "source": [
    "store.info()"
   ]
  },
  {
   "cell_type": "code",
   "execution_count": null,
   "id": "df50ffdb",
   "metadata": {},
   "outputs": [],
   "source": [
    "store.columns"
   ]
  },
  {
   "cell_type": "code",
   "execution_count": null,
   "id": "c0efd06f",
   "metadata": {},
   "outputs": [],
   "source": [
    "store.isnull().sum()"
   ]
  },
  {
   "cell_type": "code",
   "execution_count": null,
   "id": "16f50c52",
   "metadata": {},
   "outputs": [],
   "source": [
    "#checking duplicates\n",
    "store.duplicated().sum()"
   ]
  },
  {
   "cell_type": "code",
   "execution_count": null,
   "id": "311607cc",
   "metadata": {},
   "outputs": [],
   "source": [
    "store.drop_duplicates(inplace = True)"
   ]
  },
  {
   "cell_type": "code",
   "execution_count": null,
   "id": "392e41d5",
   "metadata": {},
   "outputs": [],
   "source": [
    "#checking duplicates after dropping \n",
    "store.duplicated().sum()"
   ]
  },
  {
   "cell_type": "code",
   "execution_count": null,
   "id": "b71b8c39",
   "metadata": {},
   "outputs": [],
   "source": [
    "#print shape after dropping duplicates\n",
    "store.shape"
   ]
  },
  {
   "cell_type": "code",
   "execution_count": null,
   "id": "a24559a5",
   "metadata": {},
   "outputs": [],
   "source": [
    "# check unique values in each column\n",
    "store.nunique() #Country is the same in all dataset."
   ]
  },
  {
   "cell_type": "code",
   "execution_count": null,
   "id": "6ce14086",
   "metadata": {},
   "outputs": [],
   "source": [
    "#Drop unnessecary col \n",
    "store.drop(['Discount','Country','Postal Code'], axis = 1, inplace = True) "
   ]
  },
  {
   "cell_type": "code",
   "execution_count": null,
   "id": "7106462e",
   "metadata": {},
   "outputs": [],
   "source": [
    "store.head()"
   ]
  },
  {
   "cell_type": "code",
   "execution_count": null,
   "id": "5fd9878c",
   "metadata": {},
   "outputs": [],
   "source": [
    "store.shape"
   ]
  },
  {
   "cell_type": "code",
   "execution_count": null,
   "id": "e728e163",
   "metadata": {},
   "outputs": [],
   "source": [
    "store.describe().T"
   ]
  },
  {
   "cell_type": "code",
   "execution_count": null,
   "id": "645a5489",
   "metadata": {},
   "outputs": [],
   "source": [
    "store.corr()"
   ]
  },
  {
   "cell_type": "code",
   "execution_count": null,
   "id": "e837cb6a",
   "metadata": {},
   "outputs": [],
   "source": [
    "#representing correlation between features\n",
    "plt.figure(figsize=(6,6))\n",
    "hm = sns.heatmap(store.corr(), annot = True,cmap=\"YlGnBu\")\n",
    "hm.set(title = \"Correlation matrix of supermarket sales data\\n\")\n",
    "\n",
    "plt.show()"
   ]
  },
  {
   "cell_type": "code",
   "execution_count": null,
   "id": "d6129119",
   "metadata": {},
   "outputs": [],
   "source": [
    "#correlation between features \n",
    "corr = store.corr()\n",
    "corr.style.background_gradient(cmap='coolwarm')"
   ]
  },
  {
   "cell_type": "markdown",
   "id": "6a8defb0",
   "metadata": {},
   "source": [
    "# Data Visualization"
   ]
  },
  {
   "cell_type": "code",
   "execution_count": null,
   "id": "06066159",
   "metadata": {},
   "outputs": [],
   "source": [
    "plt.figure(figsize=(16,8))\n",
    "sns.countplot(x=store['State'])\n",
    "plt.xticks(rotation=80)\n",
    "plt.title(\"State\")\n",
    "plt.show()"
   ]
  },
  {
   "cell_type": "code",
   "execution_count": null,
   "id": "0ee66126",
   "metadata": {},
   "outputs": [],
   "source": [
    "#pie chart to represent percentage of Ship Mode\n",
    "def pie_chart(dataframe):\n",
    "    \n",
    "    labels = dataframe.index.values\n",
    "    sizes = dataframe['Ship Mode'].values\n",
    "        \n",
    "    fig1, ax1 = plt.subplots()\n",
    "    ax1.pie(sizes, labels=labels, autopct='%1.1f%%', shadow=True, startangle=90)\n",
    "    ax1.axis('equal')  # Equal aspect ratio ensures that pie is drawn as a circle.\n",
    "    plt.show()\n",
    "\n",
    "df_Ship_Mode_count = pd.DataFrame(store['Ship Mode'].value_counts())\n",
    "pie_chart(df_Ship_Mode_count)"
   ]
  },
  {
   "cell_type": "code",
   "execution_count": null,
   "id": "9f8b1347",
   "metadata": {},
   "outputs": [],
   "source": [
    "#pie chart to represent percentage of Segment\n",
    "def pie_chart(dataframe):\n",
    "    \n",
    "    labels = dataframe.index.values\n",
    "    sizes = dataframe['Segment'].values\n",
    "        \n",
    "    fig1, ax1 = plt.subplots()\n",
    "    ax1.pie(sizes, labels=labels, autopct='%1.1f%%', shadow=True, startangle=90)\n",
    "    ax1.axis('equal')  # Equal aspect ratio ensures that pie is drawn as a circle.\n",
    "    plt.show()\n",
    "\n",
    "df_Segment_count = pd.DataFrame(store['Segment'].value_counts())\n",
    "pie_chart(df_Segment_count)"
   ]
  },
  {
   "cell_type": "code",
   "execution_count": null,
   "id": "200de71d",
   "metadata": {},
   "outputs": [],
   "source": [
    "store.head()"
   ]
  },
  {
   "cell_type": "code",
   "execution_count": null,
   "id": "c1ebc818",
   "metadata": {},
   "outputs": [],
   "source": [
    "#Let's take a sample from the dataset as it's too large\n",
    "storeDF = store.sample(n = 3500)\n",
    "storeDF.head()"
   ]
  },
  {
   "cell_type": "code",
   "execution_count": null,
   "id": "ec897e12",
   "metadata": {},
   "outputs": [],
   "source": [
    "storeDF.shape"
   ]
  },
  {
   "cell_type": "code",
   "execution_count": null,
   "id": "7d80ac3b",
   "metadata": {
    "scrolled": false
   },
   "outputs": [],
   "source": [
    "# Region Count\n",
    "sns.countplot(store['Region'])\n",
    "plt.xlabel('Branch')\n",
    "plt.ylabel('Count')\n",
    "plt.title('Which Region is the most busy?')\n",
    "\n",
    "plt.show()"
   ]
  },
  {
   "cell_type": "code",
   "execution_count": null,
   "id": "55fdf3fa",
   "metadata": {},
   "outputs": [],
   "source": [
    "# Ship Mode Count\n",
    "sns.countplot(store['Ship Mode'])\n",
    "\n",
    "plt.xlabel('Ship Mode')\n",
    "plt.ylabel('Count')\n",
    "plt.title('Which Ship Mode is the most busy?')\n",
    "\n",
    "plt.show()"
   ]
  },
  {
   "cell_type": "code",
   "execution_count": null,
   "id": "b3f7f35e",
   "metadata": {
    "scrolled": false
   },
   "outputs": [],
   "source": [
    "with sns.axes_style(style='ticks'):\n",
    "    g = sns.factorplot(\"Ship Mode\", \"Profit\", \"Segment\", data=storeDF, kind=\"box\")\n",
    "    g.set_axis_labels(\"Ship Mode\", \"Profit\")"
   ]
  },
  {
   "cell_type": "code",
   "execution_count": null,
   "id": "668d3a96",
   "metadata": {},
   "outputs": [],
   "source": [
    "with sns.axes_style('white'):\n",
    "    sns.jointplot(\"Profit\", \"Quantity\", data=storeDF, kind='hex')"
   ]
  },
  {
   "cell_type": "code",
   "execution_count": null,
   "id": "f3f5a7d4",
   "metadata": {},
   "outputs": [],
   "source": [
    "#subplot for each col\n",
    "storeDF.plot(subplots=True, figsize=(8, 8))"
   ]
  },
  {
   "cell_type": "code",
   "execution_count": null,
   "id": "b0dcef27",
   "metadata": {},
   "outputs": [],
   "source": [
    "sns.pairplot(storeDF, hue='Segment', size=2.5)"
   ]
  },
  {
   "cell_type": "code",
   "execution_count": null,
   "id": "381f0c56",
   "metadata": {},
   "outputs": [],
   "source": [
    "sns.jointplot(\"Profit\", \"Quantity\", data=storeDF, kind='reg')"
   ]
  },
  {
   "cell_type": "code",
   "execution_count": null,
   "id": "a5c9149c",
   "metadata": {},
   "outputs": [],
   "source": [
    "sns.violinplot(\"Segment\", \"Profit\", data=storeDF,\n",
    "               palette=[\"lightblue\", \"red\",\"pink\"])"
   ]
  },
  {
   "cell_type": "code",
   "execution_count": null,
   "id": "d35dad15",
   "metadata": {},
   "outputs": [],
   "source": [
    "sns.kdeplot(storeDF.Profit[storeDF['Ship Mode'] =='Second Class'], label='Second Class', shade=True)\n",
    "sns.kdeplot(storeDF.Profit[storeDF['Ship Mode'] =='Standard Class'], label='Standard Class', shade=True)\n",
    "sns.kdeplot(storeDF.Profit[storeDF['Ship Mode'] =='First Class'], label='First Class', shade=True)\n",
    "sns.kdeplot(storeDF.Profit[storeDF['Ship Mode'] =='Same Day'], label='Same Day', shade=True)\n",
    "\n",
    "plt.xlabel('Profit')"
   ]
  },
  {
   "cell_type": "code",
   "execution_count": null,
   "id": "fb98697f",
   "metadata": {},
   "outputs": [],
   "source": [
    "ProfitPlt = (ggplot(storeDF, aes(x='Sub-Category', y='Profit', fill='Sub-Category')) + geom_col() + coord_flip()\n",
    "+ scale_fill_brewer(type='div', palette=\"Spectral\") + theme_classic())\n",
    "\n",
    "display(ProfitPlt)"
   ]
  },
  {
   "cell_type": "code",
   "execution_count": null,
   "id": "0d6bbe63",
   "metadata": {},
   "outputs": [],
   "source": [
    "sns.kdeplot(storeDF.Sales[storeDF['Ship Mode'] =='Second Class'], label='Second Class', shade=True)\n",
    "sns.kdeplot(storeDF.Sales[storeDF['Ship Mode'] =='Standard Class'], label='Standard Class', shade=True)\n",
    "sns.kdeplot(storeDF.Sales[storeDF['Ship Mode'] =='First Class'], label='First Class', shade=True)\n",
    "sns.kdeplot(storeDF.Sales[storeDF['Ship Mode'] =='Same Day'], label='Same Day', shade=True)\n",
    "\n",
    "plt.xlabel('Sales')"
   ]
  },
  {
   "cell_type": "code",
   "execution_count": null,
   "id": "92f896e6",
   "metadata": {},
   "outputs": [],
   "source": [
    "sns.distplot(storeDF['Sales'], kde=False)\n",
    "plt.axvline(0, color=\"k\", linestyle=\"--\")"
   ]
  },
  {
   "cell_type": "code",
   "execution_count": null,
   "id": "3367f8a7",
   "metadata": {},
   "outputs": [],
   "source": [
    "sns.distplot(storeDF['Profit'], kde=False)\n",
    "plt.axvline(0, color=\"k\", linestyle=\"--\")"
   ]
  },
  {
   "cell_type": "code",
   "execution_count": null,
   "id": "cf5adcf3",
   "metadata": {},
   "outputs": [],
   "source": [
    "#Creating an instance of labelEncoder\n",
    "labelEncoder = LabelEncoder()\n",
    "#Transforming categorical data into numbers\n",
    "columnNames = ['Ship Mode','Segment','City','State','Region','Category','Sub-Category']\n",
    "for colName in store.columns:\n",
    "  for itr in range(len(columnNames)):\n",
    "    if colName == columnNames[itr]:\n",
    "      storeDF[colName] = labelEncoder.fit_transform(storeDF[colName])\n",
    "storeDF.head()"
   ]
  },
  {
   "cell_type": "code",
   "execution_count": null,
   "id": "202cf75a",
   "metadata": {},
   "outputs": [],
   "source": [
    "sns.distplot(storeDF['Segment'])\n",
    "sns.distplot(storeDF['State'])"
   ]
  },
  {
   "cell_type": "code",
   "execution_count": null,
   "id": "c2dd4cd7",
   "metadata": {},
   "outputs": [],
   "source": [
    "#We can see the joint distribution and the marginal distributions together using sns.jointplot\n",
    "sns.jointplot(storeDF['Segment'], storeDF['State'], storeDF, kind='kde')"
   ]
  },
  {
   "cell_type": "code",
   "execution_count": null,
   "id": "10ef1921",
   "metadata": {},
   "outputs": [],
   "source": [
    "sns.kdeplot(storeDF['City'])"
   ]
  },
  {
   "cell_type": "code",
   "execution_count": null,
   "id": "db7616cd",
   "metadata": {},
   "outputs": [],
   "source": [
    "sns.kdeplot(storeDF['State'],storeDF['Region'])"
   ]
  },
  {
   "cell_type": "markdown",
   "id": "c74458ac",
   "metadata": {},
   "source": [
    "# Model"
   ]
  },
  {
   "cell_type": "code",
   "execution_count": null,
   "id": "750d2127",
   "metadata": {},
   "outputs": [],
   "source": [
    "#Nearest Neighbours Algo\n",
    "neighb = NearestNeighbors(n_neighbors=3) \n",
    "nbrs=neighb.fit(storeDF) \n",
    "distances,indices=nbrs.kneighbors(storeDF) # finding the nearest neighbours\n",
    "# Sort and plot the distances results\n",
    "distances = np.sort(distances, axis = 0)\n",
    "distances = distances[:, 1] # taking the second column of the sorted distances\n",
    "plt.rcParams['figure.figsize'] = (5,3) \n",
    "plt.plot(distances) \n",
    "plt.show() "
   ]
  }
 ],
 "metadata": {
  "kernelspec": {
   "display_name": "Python 3 (ipykernel)",
   "language": "python",
   "name": "python3"
  },
  "language_info": {
   "codemirror_mode": {
    "name": "ipython",
    "version": 3
   },
   "file_extension": ".py",
   "mimetype": "text/x-python",
   "name": "python",
   "nbconvert_exporter": "python",
   "pygments_lexer": "ipython3",
   "version": "3.9.12"
  }
 },
 "nbformat": 4,
 "nbformat_minor": 5
}
