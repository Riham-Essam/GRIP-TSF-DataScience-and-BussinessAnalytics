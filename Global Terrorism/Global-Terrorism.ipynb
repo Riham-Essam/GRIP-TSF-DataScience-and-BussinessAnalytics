{
 "cells": [
  {
   "cell_type": "markdown",
   "id": "35ac5606",
   "metadata": {},
   "source": [
    "# Name: Riham Essam\n",
    "# Track: Data Science and Bussiness Analytics\n",
    "# Task 4: Exploratory Data Analysis - Terrorism"
   ]
  },
  {
   "cell_type": "code",
   "execution_count": null,
   "id": "c475aa21",
   "metadata": {},
   "outputs": [],
   "source": [
    "#Importating libraries\n",
    "import pandas as pd\n",
    "import numpy as np\n",
    "import matplotlib.pyplot as plt\n",
    "import sklearn\n",
    "import warnings\n",
    "import seaborn as sns\n",
    "\n",
    "warnings.filterwarnings('ignore')"
   ]
  },
  {
   "cell_type": "code",
   "execution_count": null,
   "id": "b3615607",
   "metadata": {},
   "outputs": [],
   "source": [
    "terrorism = pd.read_csv(\"globalterrorismdb_0718dist.csv\",encoding='latin-1')\n",
    "terrorism.head()"
   ]
  },
  {
   "cell_type": "code",
   "execution_count": null,
   "id": "9325555e",
   "metadata": {},
   "outputs": [],
   "source": [
    "terrorism.shape"
   ]
  },
  {
   "cell_type": "code",
   "execution_count": null,
   "id": "44a31256",
   "metadata": {},
   "outputs": [],
   "source": [
    "terrorism.info"
   ]
  },
  {
   "cell_type": "code",
   "execution_count": null,
   "id": "cf89a8ac",
   "metadata": {},
   "outputs": [],
   "source": [
    "terrorism.columns"
   ]
  },
  {
   "cell_type": "code",
   "execution_count": null,
   "id": "a0aebe39",
   "metadata": {},
   "outputs": [],
   "source": [
    "terrorism.describe().T"
   ]
  },
  {
   "cell_type": "code",
   "execution_count": null,
   "id": "0ede5142",
   "metadata": {},
   "outputs": [],
   "source": [
    "terrorism.dtypes"
   ]
  },
  {
   "cell_type": "code",
   "execution_count": null,
   "id": "3c042c3a",
   "metadata": {
    "scrolled": true
   },
   "outputs": [],
   "source": [
    "#We'll only take some columns\n",
    "terrorism=terrorism[[\"iyear\",\"imonth\",\"iday\",\"country_txt\",\"region_txt\",\"attacktype1_txt\",\"targtype1_txt\",\n",
    "       \"gname\",\"weaptype1_txt\",\"nkill\",\"nwound\"]]\n",
    "terrorism.head()"
   ]
  },
  {
   "cell_type": "code",
   "execution_count": null,
   "id": "965f6628",
   "metadata": {},
   "outputs": [],
   "source": [
    "terrorism.info"
   ]
  },
  {
   "cell_type": "code",
   "execution_count": null,
   "id": "96bf4e9c",
   "metadata": {},
   "outputs": [],
   "source": [
    "terrorism.shape"
   ]
  },
  {
   "cell_type": "code",
   "execution_count": null,
   "id": "1281cc81",
   "metadata": {},
   "outputs": [],
   "source": [
    "terrorism.columns"
   ]
  },
  {
   "cell_type": "code",
   "execution_count": null,
   "id": "a6d33a36",
   "metadata": {},
   "outputs": [],
   "source": [
    "terrorism.duplicated().sum()"
   ]
  },
  {
   "cell_type": "code",
   "execution_count": null,
   "id": "61bd3156",
   "metadata": {},
   "outputs": [],
   "source": [
    "terrorism.drop_duplicates(inplace = True)"
   ]
  },
  {
   "cell_type": "code",
   "execution_count": null,
   "id": "6113ccfd",
   "metadata": {},
   "outputs": [],
   "source": [
    "terrorism.duplicated().sum()"
   ]
  },
  {
   "cell_type": "code",
   "execution_count": null,
   "id": "34ba052b",
   "metadata": {},
   "outputs": [],
   "source": [
    "terrorism.isnull().sum()"
   ]
  },
  {
   "cell_type": "code",
   "execution_count": null,
   "id": "eccc5ec7",
   "metadata": {},
   "outputs": [],
   "source": [
    "terrorism[\"nkill\"]=terrorism[\"nkill\"].fillna(0)\n",
    "terrorism[\"nwound\"]=terrorism[\"nwound\"].fillna(0)\n",
    "terrorism[\"Casualty\"]=terrorism[\"nkill\"] + terrorism[\"nwound\"] #new col to know number of casualty"
   ]
  },
  {
   "cell_type": "code",
   "execution_count": null,
   "id": "d7c1971c",
   "metadata": {},
   "outputs": [],
   "source": [
    "terrorism.isnull().sum()"
   ]
  },
  {
   "cell_type": "markdown",
   "id": "2a2f0cee",
   "metadata": {},
   "source": [
    "# Visualization"
   ]
  },
  {
   "cell_type": "code",
   "execution_count": null,
   "id": "a775c510",
   "metadata": {},
   "outputs": [],
   "source": [
    "#Number of attacks each year\n",
    "numberOfAttacks=terrorism[\"iyear\"].value_counts(dropna=False).sort_index().to_frame().reset_index().rename(columns={\"index\":\"Year\",\"iyear\":\"Attacks\"}).set_index(\"Year\")\n",
    "numberOfAttacks.head()"
   ]
  },
  {
   "cell_type": "code",
   "execution_count": null,
   "id": "bb72ad70",
   "metadata": {},
   "outputs": [],
   "source": [
    "numberOfAttacks.plot(kind=\"bar\",color=\"purple\",figsize=(15,6),fontsize=13)\n",
    "plt.title(\"Attacks\",fontsize=15)\n",
    "plt.xlabel(\"Years\",fontsize=13)\n",
    "plt.ylabel(\"Number of Attacks\",fontsize=13)\n",
    "plt.show()\n",
    "\n",
    "#The most Attacks in 2014\n",
    "#The least in 1971"
   ]
  },
  {
   "cell_type": "code",
   "execution_count": null,
   "id": "8beb272a",
   "metadata": {},
   "outputs": [],
   "source": [
    "#Number of killed in each year\n",
    "numberOfKilled=terrorism[[\"iyear\",\"nkill\"]].groupby(\"iyear\").sum()\n",
    "numberOfKilled.head()"
   ]
  },
  {
   "cell_type": "code",
   "execution_count": null,
   "id": "0d5762ef",
   "metadata": {},
   "outputs": [],
   "source": [
    "numberOfKilled.plot(kind=\"bar\",color=\"green\",figsize=(15,6),fontsize=13)\n",
    "plt.title(\"Killed\",fontsize=15)\n",
    "plt.xlabel(\"Years\",fontsize=13)\n",
    "plt.ylabel(\"Number of Killed\",fontsize=13)\n",
    "plt.show()\n",
    "\n",
    "#The most killed in 2014\n",
    "#The least in 1970"
   ]
  },
  {
   "cell_type": "code",
   "execution_count": null,
   "id": "9297dd27",
   "metadata": {},
   "outputs": [],
   "source": [
    "#Number of Casualty in each year\n",
    "numberOfCasualty=terrorism[[\"iyear\",\"Casualty\"]].groupby(\"iyear\").sum()\n",
    "numberOfCasualty.head()"
   ]
  },
  {
   "cell_type": "code",
   "execution_count": null,
   "id": "efe82e1a",
   "metadata": {},
   "outputs": [],
   "source": [
    "numberOfCasualty.plot(kind=\"bar\",color=\"black\",figsize=(15,6),fontsize=13)\n",
    "plt.title(\"Casualty\",fontsize=15)\n",
    "plt.xlabel(\"Years\",fontsize=13)\n",
    "plt.ylabel(\"Number of Casualty\",fontsize=13)\n",
    "plt.show()\n",
    "\n",
    "#The most killed in 2014\n",
    "#The least in 1971"
   ]
  },
  {
   "cell_type": "code",
   "execution_count": null,
   "id": "9f73f28c",
   "metadata": {},
   "outputs": [],
   "source": [
    "#Targert type in Casualty\n",
    "target=terrorism[[\"targtype1_txt\",\"Casualty\"]].groupby(\"targtype1_txt\").sum().sort_values(by=\"Casualty\",ascending=False)\n",
    "target"
   ]
  },
  {
   "cell_type": "code",
   "execution_count": null,
   "id": "a19b8e4f",
   "metadata": {},
   "outputs": [],
   "source": [
    "target.plot(kind=\"bar\",color=\"pink\",figsize=(15,6))\n",
    "plt.title(\"Casualties in each Target Attack\",fontsize=15)\n",
    "plt.xlabel(\"Target Types\",fontsize=13)\n",
    "plt.xticks(fontsize=13)\n",
    "plt.ylabel(\"Number of Casualties\",fontsize=13)\n",
    "plt.show()"
   ]
  },
  {
   "cell_type": "code",
   "execution_count": null,
   "id": "6b54ea39",
   "metadata": {},
   "outputs": [],
   "source": [
    "#Targert type in killed\n",
    "target=terrorism[[\"targtype1_txt\",\"nkill\"]].groupby(\"targtype1_txt\").sum().sort_values(by=\"nkill\",ascending=False)\n",
    "target"
   ]
  },
  {
   "cell_type": "code",
   "execution_count": null,
   "id": "8fbb6481",
   "metadata": {},
   "outputs": [],
   "source": [
    "target.plot(kind=\"bar\",color=\"blue\",figsize=(15,6))\n",
    "plt.title(\"killed in each Target Attack\",fontsize=15)\n",
    "plt.xlabel(\"Target Types\",fontsize=13)\n",
    "plt.xticks(fontsize=13)\n",
    "plt.ylabel(\"Number of killed\",fontsize=13)\n",
    "plt.show()"
   ]
  },
  {
   "cell_type": "code",
   "execution_count": null,
   "id": "d4b27aca",
   "metadata": {},
   "outputs": [],
   "source": [
    "#Targert type in wounded\n",
    "target=terrorism[[\"targtype1_txt\",\"nwound\"]].groupby(\"targtype1_txt\").sum().sort_values(by=\"nwound\",ascending=False)\n",
    "target"
   ]
  },
  {
   "cell_type": "code",
   "execution_count": null,
   "id": "f31bf619",
   "metadata": {},
   "outputs": [],
   "source": [
    "target.plot(kind=\"bar\",color=\"violet\",figsize=(15,6))\n",
    "plt.title(\"Wounded in each Target Attack\",fontsize=15)\n",
    "plt.xlabel(\"Target Types\",fontsize=13)\n",
    "plt.xticks(fontsize=13)\n",
    "plt.ylabel(\"Number of Wounded\",fontsize=13)\n",
    "plt.show()"
   ]
  },
  {
   "cell_type": "code",
   "execution_count": null,
   "id": "88cda14d",
   "metadata": {},
   "outputs": [],
   "source": [
    "plt.figure(figsize=(40,10))\n",
    "plt.xticks(rotation = 90)\n",
    "plt.title('Attacks')\n",
    "sns.countplot(x=terrorism.country_txt)"
   ]
  },
  {
   "cell_type": "code",
   "execution_count": null,
   "id": "aa2f1ae8",
   "metadata": {},
   "outputs": [],
   "source": [
    "plt.figure(figsize=(25,18))\n",
    "plt.title('Attacks')\n",
    "sns.countplot(x=terrorism.region_txt)"
   ]
  },
  {
   "cell_type": "code",
   "execution_count": null,
   "id": "62819ecf",
   "metadata": {},
   "outputs": [],
   "source": [
    "region=pd.crosstab(terrorism.iyear,terrorism.region_txt).plot(kind='area',figsize=(20,10))\n",
    "plt.title('Terrorism by region in each year')\n",
    "plt.ylabel('Attacks')\n",
    "plt.show()"
   ]
  },
  {
   "cell_type": "code",
   "execution_count": null,
   "id": "f3aced8d",
   "metadata": {},
   "outputs": [],
   "source": []
  }
 ],
 "metadata": {
  "kernelspec": {
   "display_name": "Python 3 (ipykernel)",
   "language": "python",
   "name": "python3"
  },
  "language_info": {
   "codemirror_mode": {
    "name": "ipython",
    "version": 3
   },
   "file_extension": ".py",
   "mimetype": "text/x-python",
   "name": "python",
   "nbconvert_exporter": "python",
   "pygments_lexer": "ipython3",
   "version": "3.9.12"
  }
 },
 "nbformat": 4,
 "nbformat_minor": 5
}
