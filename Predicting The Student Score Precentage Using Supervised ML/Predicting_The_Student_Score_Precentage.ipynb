{
 "cells": [
  {
   "cell_type": "markdown",
   "id": "d12a8d9c",
   "metadata": {},
   "source": [
    "# Name: Riham Essam\n"
   ]
  },
  {
   "cell_type": "markdown",
   "id": "b0456c18",
   "metadata": {},
   "source": [
    "# Track: Data Science and Bussiness Analytics\n"
   ]
  },
  {
   "cell_type": "markdown",
   "id": "f15d6b67",
   "metadata": {},
   "source": [
    "# Task 1 : Predicting The Student Score Precentage Using Supervised ML (Linear Regression Algorithm)"
   ]
  },
  {
   "cell_type": "code",
   "execution_count": null,
   "id": "1c847a23",
   "metadata": {},
   "outputs": [],
   "source": [
    "#Importating libraries\n",
    "import pandas as pd\n",
    "import numpy as np\n",
    "import matplotlib.pyplot as plt\n",
    "import sklearn\n",
    "from sklearn.model_selection import train_test_split  \n",
    "from sklearn.linear_model import LinearRegression  \n",
    "from sklearn import metrics\n",
    "import warnings\n",
    "warnings.filterwarnings('ignore')"
   ]
  },
  {
   "cell_type": "code",
   "execution_count": null,
   "id": "25cbf82d",
   "metadata": {},
   "outputs": [],
   "source": [
    "# read text file into pandas DataFrame\n",
    "df = pd.read_table(\"scores.txt\", delimiter=\",\")\n",
    "  \n",
    "# display DataFrame\n",
    "print(df)"
   ]
  },
  {
   "cell_type": "code",
   "execution_count": null,
   "id": "0853545d",
   "metadata": {},
   "outputs": [],
   "source": [
    "#Printing shape of data\n",
    "print(df.shape)"
   ]
  },
  {
   "cell_type": "code",
   "execution_count": null,
   "id": "54f35f6e",
   "metadata": {},
   "outputs": [],
   "source": [
    "#Splitting data into X and Y\n",
    "X = df['Hours']\n",
    "Y = df['Scores']\n",
    "#Plotting data\n",
    "plt.plot(X, Y, 'ro')\n",
    "plt.title(\"Hours vs. Scores\")\n",
    "plt.xlabel(\"Hours\")\n",
    "plt.ylabel(\"Scores\")"
   ]
  },
  {
   "cell_type": "code",
   "execution_count": null,
   "id": "b17e51e2",
   "metadata": {},
   "outputs": [],
   "source": [
    "df.describe()"
   ]
  },
  {
   "cell_type": "code",
   "execution_count": null,
   "id": "56fd04f2",
   "metadata": {},
   "outputs": [],
   "source": [
    "#Checking nulls\n",
    "df.isnull().sum()"
   ]
  },
  {
   "cell_type": "code",
   "execution_count": null,
   "id": "ddd8cadf",
   "metadata": {
    "scrolled": true
   },
   "outputs": [],
   "source": [
    "#checking duplicates\n",
    "df.duplicated().sum()"
   ]
  },
  {
   "cell_type": "code",
   "execution_count": null,
   "id": "6b0eb36a",
   "metadata": {
    "scrolled": true
   },
   "outputs": [],
   "source": [
    "df.columns"
   ]
  },
  {
   "cell_type": "code",
   "execution_count": null,
   "id": "43b61ed6",
   "metadata": {},
   "outputs": [],
   "source": [
    "df.info()"
   ]
  },
  {
   "cell_type": "code",
   "execution_count": null,
   "id": "ffe66f7a",
   "metadata": {},
   "outputs": [],
   "source": [
    "#Splitting data for Model\n",
    "X = df.iloc[:, :-1].values  \n",
    "Y = df.iloc[:, 1].values"
   ]
  },
  {
   "cell_type": "code",
   "execution_count": null,
   "id": "d84922c6",
   "metadata": {},
   "outputs": [],
   "source": [
    "print(X.shape)\n",
    "print(Y.shape)"
   ]
  },
  {
   "cell_type": "code",
   "execution_count": null,
   "id": "8d77e8a2",
   "metadata": {},
   "outputs": [],
   "source": [
    "#splliting data to train and test with 80% train and 20% test\n",
    "X_train, X_test, y_train, y_test = train_test_split(X, Y, test_size = 0.2, random_state=0)"
   ]
  },
  {
   "cell_type": "code",
   "execution_count": null,
   "id": "8c2c95b4",
   "metadata": {},
   "outputs": [],
   "source": [
    "LR = LinearRegression()  \n",
    "LR.fit(X_train, y_train) \n",
    "y_pred = LR.predict(X_test)\n",
    "print(\"predicted score:\", y_pred)"
   ]
  },
  {
   "cell_type": "code",
   "execution_count": null,
   "id": "2936890c",
   "metadata": {
    "scrolled": true
   },
   "outputs": [],
   "source": [
    "# Comparing Actual vs Predicted\n",
    "df = pd.DataFrame({'Actual': y_test, 'Predicted': y_pred})  \n",
    "df"
   ]
  },
  {
   "cell_type": "code",
   "execution_count": null,
   "id": "d17b99eb",
   "metadata": {},
   "outputs": [],
   "source": [
    "# What will be predicted score if a student studies for 9.25hrs/day ?\n",
    "hours = [[9.25]]\n",
    "pred = LR.predict(hours)\n",
    "print(\"No of Hours = {}\".format(hours))\n",
    "print(\"Predicted Score = {}\".format(pred[0]))"
   ]
  },
  {
   "cell_type": "code",
   "execution_count": null,
   "id": "074f1814",
   "metadata": {},
   "outputs": [],
   "source": [
    "#Evaluting The Model\n",
    "print('Mean Absolute Error:', \n",
    "      metrics.mean_absolute_error(y_test, y_pred))"
   ]
  },
  {
   "cell_type": "code",
   "execution_count": null,
   "id": "141a670b",
   "metadata": {},
   "outputs": [],
   "source": [
    "# Plotting the regression line\n",
    "W = LR.coef_\n",
    "b = LR.intercept_\n",
    "line = W*X + b\n",
    "\n",
    "# Plotting for the test data\n",
    "plt.plot(X, Y, 'ro')\n",
    "plt.plot(X, line,'-')\n",
    "plt.show()"
   ]
  },
  {
   "cell_type": "code",
   "execution_count": null,
   "id": "9b30a05c",
   "metadata": {},
   "outputs": [],
   "source": []
  }
 ],
 "metadata": {
  "kernelspec": {
   "display_name": "Python 3 (ipykernel)",
   "language": "python",
   "name": "python3"
  },
  "language_info": {
   "codemirror_mode": {
    "name": "ipython",
    "version": 3
   },
   "file_extension": ".py",
   "mimetype": "text/x-python",
   "name": "python",
   "nbconvert_exporter": "python",
   "pygments_lexer": "ipython3",
   "version": "3.9.12"
  }
 },
 "nbformat": 4,
 "nbformat_minor": 5
}
