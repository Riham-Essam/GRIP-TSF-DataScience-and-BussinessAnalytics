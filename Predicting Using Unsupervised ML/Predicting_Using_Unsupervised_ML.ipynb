{
 "cells": [
  {
   "cell_type": "markdown",
   "id": "efbef7aa",
   "metadata": {},
   "source": [
    "# Name: Riham Essam"
   ]
  },
  {
   "cell_type": "markdown",
   "id": "81ea61fe",
   "metadata": {},
   "source": [
    "# Track: Data Science and Bussiness Analytics"
   ]
  },
  {
   "cell_type": "markdown",
   "id": "53ec0f55",
   "metadata": {},
   "source": [
    "# Task 2: Predicting Using Unsupervised ML (K-means Algorithm)"
   ]
  },
  {
   "cell_type": "code",
   "execution_count": null,
   "id": "80e20591",
   "metadata": {},
   "outputs": [],
   "source": [
    "#Importating libraries\n",
    "import pandas as pd\n",
    "import numpy as np\n",
    "import matplotlib.pyplot as plt\n",
    "import sklearn\n",
    "from sklearn.cluster import KMeans\n",
    "import warnings\n",
    "warnings.filterwarnings('ignore')"
   ]
  },
  {
   "cell_type": "code",
   "execution_count": null,
   "id": "124d2c45",
   "metadata": {},
   "outputs": [],
   "source": [
    "iris = pd.read_csv('Iris.csv')\n",
    "iris.head()"
   ]
  },
  {
   "cell_type": "code",
   "execution_count": null,
   "id": "a005b5b4",
   "metadata": {},
   "outputs": [],
   "source": [
    "#Printing shape of data\n",
    "iris.shape"
   ]
  },
  {
   "cell_type": "code",
   "execution_count": null,
   "id": "70a8887b",
   "metadata": {},
   "outputs": [],
   "source": [
    "iris.describe()"
   ]
  },
  {
   "cell_type": "code",
   "execution_count": null,
   "id": "98022b92",
   "metadata": {},
   "outputs": [],
   "source": [
    "iris.columns"
   ]
  },
  {
   "cell_type": "code",
   "execution_count": null,
   "id": "f00b19ce",
   "metadata": {},
   "outputs": [],
   "source": [
    "iris.info()"
   ]
  },
  {
   "cell_type": "code",
   "execution_count": null,
   "id": "3ba99a03",
   "metadata": {},
   "outputs": [],
   "source": [
    "iris.isnull().sum()"
   ]
  },
  {
   "cell_type": "code",
   "execution_count": null,
   "id": "5db6052c",
   "metadata": {},
   "outputs": [],
   "source": [
    "#checking duplicates\n",
    "iris.duplicated().sum()"
   ]
  },
  {
   "cell_type": "code",
   "execution_count": null,
   "id": "447cc2e1",
   "metadata": {},
   "outputs": [],
   "source": [
    "#Drop ID col\n",
    "iris.drop(['Id'], axis = 1, inplace = True)"
   ]
  },
  {
   "cell_type": "code",
   "execution_count": null,
   "id": "17404cb3",
   "metadata": {},
   "outputs": [],
   "source": [
    "iris.head()"
   ]
  },
  {
   "cell_type": "code",
   "execution_count": null,
   "id": "8f70b5dd",
   "metadata": {},
   "outputs": [],
   "source": [
    "#Splitting data\n",
    "irisDF = iris.iloc[:, [0, 1, 2, 3]].values\n",
    "\n",
    "# To find the optimum number of clusters for k-means classification\n",
    "distortions = []\n",
    "K = range(1,11)\n",
    "for k in K:\n",
    "    kmeans = KMeans(n_clusters=k)\n",
    "    kmeans.fit(irisDF)\n",
    "    distortions.append(kmeans.inertia_)\n",
    "    \n",
    "#plotting elbow method\n",
    "plt.figure(figsize=(8,6))\n",
    "plt.plot(K, distortions, 'bx-')\n",
    "plt.xlabel('Number Of Clusters')\n",
    "plt.ylabel('Distortion')\n",
    "plt.title('The Elbow Method showing the optimal k')\n",
    "plt.show()"
   ]
  },
  {
   "cell_type": "code",
   "execution_count": null,
   "id": "c16705db",
   "metadata": {},
   "outputs": [],
   "source": [
    "# Applying kmeans\n",
    "kmeans = KMeans(n_clusters = 3, init = 'k-means++',\n",
    "                max_iter = 300, n_init = 10, random_state = 0)\n",
    "y_kmeans = kmeans.fit_predict(x)"
   ]
  },
  {
   "cell_type": "code",
   "execution_count": null,
   "id": "47f1d747",
   "metadata": {},
   "outputs": [],
   "source": [
    "# Visualising clusters\n",
    "plt.scatter(x[y_kmeans == 0, 0], x[y_kmeans == 0, 1], \n",
    "            s = 100, c = 'blue', label = 'Iris-setosa')\n",
    "plt.scatter(x[y_kmeans == 1, 0], x[y_kmeans == 1, 1], \n",
    "            s = 100, c = 'purple', label = 'Iris-versicolour')\n",
    "plt.scatter(x[y_kmeans == 2, 0], x[y_kmeans == 2, 1],\n",
    "             s = 100, c = 'black', label = 'Iris-virginica')\n",
    "\n",
    "#Plotting centroids\n",
    "plt.scatter(kmeans.cluster_centers_[:, 0], kmeans.cluster_centers_[:,1], \n",
    "            s = 100, c = 'red', label = 'Centroids')\n",
    "\n",
    "plt.legend()"
   ]
  }
 ],
 "metadata": {
  "kernelspec": {
   "display_name": "Python 3 (ipykernel)",
   "language": "python",
   "name": "python3"
  },
  "language_info": {
   "codemirror_mode": {
    "name": "ipython",
    "version": 3
   },
   "file_extension": ".py",
   "mimetype": "text/x-python",
   "name": "python",
   "nbconvert_exporter": "python",
   "pygments_lexer": "ipython3",
   "version": "3.9.12"
  }
 },
 "nbformat": 4,
 "nbformat_minor": 5
}
